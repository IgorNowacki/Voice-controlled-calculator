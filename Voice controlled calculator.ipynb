{
 "nbformat": 4,
 "nbformat_minor": 0,
 "metadata": {
  "colab": {
   "provenance": []
  },
  "kernelspec": {
   "name": "python3",
   "display_name": "Python 3"
  },
  "language_info": {
   "name": "python"
  }
 },
 "cells": [
  {
   "cell_type": "code",
   "execution_count": 8,
   "metadata": {
    "id": "gkzgkwVDdtrf"
   },
   "outputs": [],
   "source": [
    "# Author: Igor Nowacki\n",
    "# Version: 1.0\n",
    "\n",
    "# Simple voice controlled calculator\n",
    "# To use voice controlled calculator\n",
    "# The following operations are supported:\n",
    "# \"+\" addition;       Please say \"Count x1 plus x2 \" to sum up.\n",
    "# \"-\" subtraction;    Please say \"Count x1 minus x2 \" to subtract.\n",
    "# \"/\" division;       Please say \"Count x1 plus x2 \" to divide.\n",
    "# \"*\" multiplication; Please say \"Count x1 plus x2 \" to multiply."
   ]
  },
  {
   "cell_type": "code",
   "source": [
    "#!pip install SpeechRecognition\n",
    "#!pip install pyttsx3\n",
    "#!apt-get install espeak\n",
    "#!pip install pyaudio"
   ],
   "metadata": {
    "colab": {
     "base_uri": "https://localhost:8080/"
    },
    "id": "bkkRVTpwf987",
    "outputId": "b49fd9eb-f666-4d48-f604-fc21dbc89fd6"
   },
   "execution_count": 9,
   "outputs": []
  },
  {
   "cell_type": "code",
   "source": [
    "import speech_recognition as sr #Library for performing speech recognition\n",
    "import pyttsx3          #text-to-speech conversion library\n",
    "import time                     #This module provides various time-related functions"
   ],
   "metadata": {
    "id": "1Vj9T9IDd25f"
   },
   "execution_count": 10,
   "outputs": []
  },
  {
   "cell_type": "code",
   "source": [
    "# Startup waiting time\n",
    "sleep_time= 7\n",
    "\n",
    "r = sr.Recognizer()\n",
    "\n",
    "#Initialization of the text-to-speech engine\n",
    "voice_engine = pyttsx3.init()\n",
    "voice_engine.setProperty('rate', 190)\n",
    "voices = voice_engine.getProperty('voices')\n",
    "voice_engine.setProperty('voice', voices[1].id)"
   ],
   "metadata": {
    "id": "9MdRA6EbeSPv"
   },
   "execution_count": 11,
   "outputs": []
  },
  {
   "cell_type": "code",
   "source": [
    "# Bot talking function\n",
    "def speaking(text):\n",
    "\tvoice_engine.say(text)\n",
    "\tvoice_engine.runAndWait()"
   ],
   "metadata": {
    "id": "1kuee3x-nsRo"
   },
   "execution_count": 12,
   "outputs": []
  },
  {
   "cell_type": "code",
   "source": [
    "# User voice recording function\n",
    "def get_Text():\n",
    "\twith sr.Microphone() as source:\n",
    "\t\ttry:\n",
    "\t\t\tprint(\"What would you like to count ?\")\n",
    "\t\t\tspeaking(\"What would you like to count ?\")\n",
    "\t\t\taudio = r.listen(source)\n",
    "\t\t\ttext = r.recognize_google(audio, language='en-GB')\n",
    "\t\t\tif text != \"\":\n",
    "\t\t\t\treturn text\n",
    "\t\t\treturn 0\n",
    "\t\texcept:\n",
    "\t\t\treturn 0"
   ],
   "metadata": {
    "id": "VOcGCgGaolY6"
   },
   "execution_count": 13,
   "outputs": []
  },
  {
   "cell_type": "code",
   "source": [
    "# Calculator logic\n",
    "while True:\n",
    "    \n",
    "    try:\n",
    "        txt = get_Text().lower()\n",
    "        txt = txt.split()\n",
    "\n",
    "        if txt != 0 and txt[0] == 'count':\n",
    "            if txt != 0 and (txt[2] == '+' or txt[2]=='plus'):\n",
    "                    print(txt)\n",
    "                    speaking(\" I calculate the sum\")\n",
    "                    n1, n2 = int(txt[1]), int(txt[3])\n",
    "                    result = n1 + n2\n",
    "                    str_result = str(result)\n",
    "                    print(f'{str(n1)} plus {str(n2)} is equal to {str_result}')\n",
    "                    speaking(f'{str(n1)} plus {str(n2)} is equal to {str_result}')\n",
    "                    continue\n",
    "            elif txt != 0 and (txt[2] == '-' or txt[2] == 'minus'):\n",
    "                    print(txt)\n",
    "                    speaking(\"I calculate the difference\")\n",
    "                    n1, n2 = int(txt[1]), int(txt[3])\n",
    "                    result = n1 - n2\n",
    "                    str_result = str(result)\n",
    "                    print(f'{str(n1)} minus {str(n2)} is equal to {str_result}')\n",
    "                    speaking(f'{str(n1)} minus {str(n2)} is equal to {str_result}')\n",
    "                    continue\n",
    "            elif txt != 0 and txt[2] == '/':\n",
    "                    print(txt)\n",
    "                    speaking(\"I calculate the quotient\")\n",
    "                    n1, n2 = int(txt[1]), int(txt[3])\n",
    "                    if n2==0:\n",
    "                        print(\"You can not division by zero.\")\n",
    "                        speaking(\"You can not division by zero.\")\n",
    "                        continue\n",
    "                    else:\n",
    "                        result = n1 / n2\n",
    "                        str_result = str(result)\n",
    "                        print(f'{str(n1)} division by {str(n2)} is equal to {str_result}')\n",
    "                        speaking(f'{str(n1)} division by {str(n2)} is equal to {str_result}')\n",
    "                        continue\n",
    "            elif txt != 0 and (txt[2] == '*' or txt[2] == 'multiplied'):\n",
    "                    print(txt)\n",
    "                    speaking(\"I calculate the product\")\n",
    "                    n1, n2 = int(txt[1]), int(txt[3])\n",
    "                    result = n1 * n2\n",
    "                    str_result = str(result)\n",
    "                    print(f'{str(n1)} multiplied by {str(n2)} is equal to {str_result}')\n",
    "                    speaking(f'{str(n1)} multiplied by {str(n2)} is equal to {str_result}')\n",
    "                    continue\n",
    "            else:\n",
    "                    print(txt)\n",
    "                    speaking(\"wrong code\")\n",
    "                    continue\n",
    "        else:\n",
    "            continue\n",
    "    except:\n",
    "        time.sleep(sleep_time)\n",
    "        speaking(\"if you don not say anything, I am off\")\n",
    "        break"
   ],
   "metadata": {
    "id": "Y2dKc9uap3-d"
   },
   "execution_count": 14,
   "outputs": [
    {
     "name": "stdout",
     "output_type": "stream",
     "text": [
      "What would you like to count ?\n",
      "['count', '1', '+', '1']\n",
      "1 plus 1 is equal to 2\n",
      "What would you like to count ?\n",
      "What would you like to count ?\n",
      "What would you like to count ?\n",
      "['count', '1', '-', '1']\n",
      "1 minus 1 is equal to 0\n",
      "What would you like to count ?\n",
      "What would you like to count ?\n",
      "['count', '10', '/', '2']\n",
      "10 division by 2 is equal to 5.0\n",
      "What would you like to count ?\n",
      "What would you like to count ?\n",
      "['count', '10', '/', '0']\n",
      "You can not division by zero.\n",
      "What would you like to count ?\n",
      "['count', '10', '*', '2']\n",
      "10 multiplied by 2 is equal to 20\n",
      "What would you like to count ?\n"
     ]
    },
    {
     "name": "stderr",
     "output_type": "stream",
     "text": [
      "Exception ignored in: <function BSTR.__del__ at 0x0000024896A8D1F0>\n",
      "Traceback (most recent call last):\n",
      "  File \"C:\\Users\\igorn\\anaconda3\\Lib\\site-packages\\comtypes\\__init__.py\", line 999, in __del__\n",
      "    def __del__(self, _free=windll.oleaut32.SysFreeString):\n",
      "KeyboardInterrupt: \n"
     ]
    }
   ]
  }
 ]
}